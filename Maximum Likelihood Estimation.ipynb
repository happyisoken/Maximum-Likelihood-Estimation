{
 "cells": [
  {
   "cell_type": "markdown",
   "id": "d3e95f68-27fe-4da6-aaaf-3474d89ae83c",
   "metadata": {},
   "source": [
    "### Maximum Likelihood Estimation\n",
    "\n",
    "This is used to calculate the best way of fitting a mathematical model to some data.\n",
    "\n",
    "For example, suppose you are interested in the average heights of colleage students in a state. You have a sample of some number (sample height) of the state but not the entire population.\n",
    "\n",
    "Further, you are willing to assume that heights are normally distributed with some unknown mean and variance.\n",
    "\n",
    "The sample mean is then the maximum likelihood estimator of the population mean.\n",
    "\n",
    "For a fixed set of data and underlying probability model, maximum likelihood picks the values of the model parameters that make the data more likely than any other values of the parameters would make them.\n",
    "\n",
    "Given a statistical model (e.g. normal distribution) for the data, it is necesary to estimate the population parameter of the model."
   ]
  },
  {
   "cell_type": "code",
   "execution_count": 1,
   "id": "aed6df7b-01f6-43e1-a32d-90beacaeb413",
   "metadata": {},
   "outputs": [],
   "source": [
    "#Python implimentation of Maximum- Likelihood Estimation\n",
    "import numpy as np\n",
    "import math"
   ]
  },
  {
   "cell_type": "code",
   "execution_count": 2,
   "id": "9d771a2b-2c30-4435-abc7-4ecf2d9313ab",
   "metadata": {},
   "outputs": [
    {
     "name": "stdout",
     "output_type": "stream",
     "text": [
      "The sample data: \n",
      " [[1 2 3 4 5]]\n",
      "The number of data present in x is:  5\n",
      "\n",
      "The mean is:  [[1 2 3 2 3]]\n",
      "The st. dev is:  [[1 2 2 3 3]]\n",
      "Mu Sigma logL\n",
      "1 1 -16.995\n",
      "2 2 -5.376\n",
      "3 2 -4.751\n",
      "2 3 -5.214\n",
      "3 3 -4.937\n"
     ]
    }
   ],
   "source": [
    "x = np.array([[1, 2, 3, 4, 5]])\n",
    "\n",
    "n = np.shape(x) [1]\n",
    "\n",
    "print(\"The sample data: \\n\", x)\n",
    "print(\"The number of data present in x is: \", n)\n",
    "\n",
    "mu = np.array([[1, 2, 3, 2, 3]])\n",
    "sigma = np.array([[1, 2, 2, 3, 3]])\n",
    "print(\"\\nThe mean is: \", mu)\n",
    "print(\"The st. dev is: \", sigma)\n",
    "\n",
    "print(\"Mu Sigma logL\")\n",
    "for i in range(5):\n",
    "    logL = -np.sum(np.square(x - mu[0, i])/(2*np.square(sigma[0, i]))) - (0.5*n*np.log10(2*math.pi)) - n*np.log10(sigma[0, i])\n",
    "    print(mu[0, i], sigma[0, i], np.round(logL, 3))"
   ]
  },
  {
   "cell_type": "markdown",
   "id": "6cde8610-63f4-4e37-80ac-b777e1b27b67",
   "metadata": {},
   "source": [
    "### Introduction to Optimization Cost Function "
   ]
  },
  {
   "cell_type": "markdown",
   "id": "8eaea333-54cc-4c2e-9aac-c5a07be35dda",
   "metadata": {},
   "source": [
    "#### Cost Function Practical Explanation"
   ]
  },
  {
   "cell_type": "markdown",
   "id": "df53eba0-5cb9-47a2-b3b8-d6a946f20972",
   "metadata": {},
   "source": [
    "#### Cost Function"
   ]
  },
  {
   "cell_type": "code",
   "execution_count": 3,
   "id": "600e0f38-e3e7-4bdd-bbcc-d211e9bf843e",
   "metadata": {},
   "outputs": [],
   "source": [
    "#import the libraries\n",
    "import matplotlib.pyplot as plt\n",
    "import pandas as pd\n",
    "from sklearn.metrics import mean_squared_error as mse"
   ]
  },
  {
   "cell_type": "markdown",
   "id": "d0ceef7c-b402-4015-9180-7844dc71ab73",
   "metadata": {},
   "source": [
    "#### Creating sample Data"
   ]
  },
  {
   "cell_type": "code",
   "execution_count": 4,
   "id": "165d7efe-ee90-4d4c-871c-23c0c59caa30",
   "metadata": {},
   "outputs": [
    {
     "data": {
      "text/html": [
       "<div>\n",
       "<style scoped>\n",
       "    .dataframe tbody tr th:only-of-type {\n",
       "        vertical-align: middle;\n",
       "    }\n",
       "\n",
       "    .dataframe tbody tr th {\n",
       "        vertical-align: top;\n",
       "    }\n",
       "\n",
       "    .dataframe thead th {\n",
       "        text-align: right;\n",
       "    }\n",
       "</style>\n",
       "<table border=\"1\" class=\"dataframe\">\n",
       "  <thead>\n",
       "    <tr style=\"text-align: right;\">\n",
       "      <th></th>\n",
       "      <th>salary</th>\n",
       "      <th>experience</th>\n",
       "    </tr>\n",
       "  </thead>\n",
       "  <tbody>\n",
       "    <tr>\n",
       "      <th>0</th>\n",
       "      <td>1.7</td>\n",
       "      <td>1.2</td>\n",
       "    </tr>\n",
       "    <tr>\n",
       "      <th>1</th>\n",
       "      <td>2.4</td>\n",
       "      <td>1.5</td>\n",
       "    </tr>\n",
       "    <tr>\n",
       "      <th>2</th>\n",
       "      <td>2.3</td>\n",
       "      <td>1.9</td>\n",
       "    </tr>\n",
       "    <tr>\n",
       "      <th>3</th>\n",
       "      <td>3.1</td>\n",
       "      <td>2.2</td>\n",
       "    </tr>\n",
       "    <tr>\n",
       "      <th>4</th>\n",
       "      <td>3.7</td>\n",
       "      <td>2.4</td>\n",
       "    </tr>\n",
       "  </tbody>\n",
       "</table>\n",
       "</div>"
      ],
      "text/plain": [
       "   salary  experience\n",
       "0     1.7         1.2\n",
       "1     2.4         1.5\n",
       "2     2.3         1.9\n",
       "3     3.1         2.2\n",
       "4     3.7         2.4"
      ]
     },
     "execution_count": 4,
     "metadata": {},
     "output_type": "execute_result"
    }
   ],
   "source": [
    "# creating the sample dataset\n",
    "experience = [1.2, 1.5, 1.9, 2.2, 2.4, 2.5, 2.8, 3.1, 3.3, 3.7, 4.2, 4.4]\n",
    "salary     = [1.7, 2.4, 2.3, 3.1, 3.7, 4.2, 4.4, 6.1, 5.4, 5.7, 6.4, 6.2]\n",
    "\n",
    "data = pd.DataFrame({\n",
    "    \"salary\" : salary,\n",
    "    \"experience\" : experience\n",
    "})\n",
    "data.head()"
   ]
  },
  {
   "cell_type": "markdown",
   "id": "913d3442-7b98-47d0-907d-2fc817c3b7dd",
   "metadata": {},
   "source": [
    "#### Plotting the data"
   ]
  },
  {
   "cell_type": "code",
   "execution_count": 5,
   "id": "ab994f2d-9cca-490d-ab80-bee6da960e50",
   "metadata": {},
   "outputs": [
    {
     "data": {
      "text/plain": [
       "<matplotlib.legend.Legend at 0x244fdf31a60>"
      ]
     },
     "execution_count": 5,
     "metadata": {},
     "output_type": "execute_result"
    },
    {
     "data": {
      "image/png": "[encoded data removed]",
      "text/plain": [
       "<Figure size 432x288 with 1 Axes>"
      ]
     },
     "metadata": {
      "needs_background": "light"
     },
     "output_type": "display_data"
    }
   ],
   "source": [
    "# plotting the data\n",
    "plt.scatter(data.experience, data.salary, color = \"red\", label = \"data points\")\n",
    "plt.xlim(1, 4.5)\n",
    "plt.ylim(1, 7)\n",
    "plt.xlabel(\"experience\")\n",
    "plt.ylabel(\"salary\")\n",
    "plt.legend()"
   ]
  },
  {
   "cell_type": "markdown",
   "id": "dba593db-918d-4948-85f0-8ec5f6d1e572",
   "metadata": {},
   "source": [
    "There is a liner relationship between salary and experience as seen in the diagram above"
   ]
  },
  {
   "cell_type": "markdown",
   "id": "efe55606-8b8c-450b-bb7f-20f29a570972",
   "metadata": {},
   "source": [
    "#### Starting the Line using small values of parameters"
   ]
  },
  {
   "cell_type": "code",
   "execution_count": 6,
   "id": "e9b51d47-b12e-442b-9607-026d0f6ba64f",
   "metadata": {},
   "outputs": [
    {
     "data": {
      "image/png": "[encoded data removed]",
      "text/plain": [
       "<Figure size 432x288 with 1 Axes>"
      ]
     },
     "metadata": {
      "needs_background": "light"
     },
     "output_type": "display_data"
    }
   ],
   "source": [
    "#making lines for different values of Beta 0.1, 0.8, 1.5\n",
    "beta = 0.1\n",
    "\n",
    "#keeping intercept constant\n",
    "b = 1.1\n",
    "\n",
    "# to store predicted points\n",
    "line1 = []\n",
    "\n",
    "#generating predictions for every data point\n",
    "for i in range(len(data)):\n",
    "    line1.append(data.experience[i]*beta + b)\n",
    "\n",
    "# plotting the line\n",
    "plt.scatter(data.experience, data.salary, color = \"red\")\n",
    "plt.plot(data.experience, line1, color = \"black\", label = \"line\")\n",
    "plt.xlim(1, 4.5)\n",
    "plt.ylim(1, 7)\n",
    "plt.xlabel(\"Experience\")\n",
    "plt.ylabel(\"Salary\")\n",
    "plt.legend()\n",
    "MSE = mse(data.experience, line1)\n",
    "plt.title(\"Beta value\" + str(beta) + \"with MSE\" + str(MSE))\n",
    "MSE = mse(data.experience, line1)"
   ]
  },
  {
   "cell_type": "markdown",
   "id": "fa01b881-21b5-484d-872a-1cf3ecb0aa92",
   "metadata": {},
   "source": [
    "In the diagram above, we can see that the slope (beta = 0.1) is less. Hence, we will change the slope to Beta = 1.5"
   ]
  },
  {
   "cell_type": "code",
   "execution_count": 7,
   "id": "08d47645-1b6c-4b5c-a800-823ca7ac7e8e",
   "metadata": {},
   "outputs": [
    {
     "data": {
      "image/png": "[encoded data removed]",
      "text/plain": [
       "<Figure size 432x288 with 1 Axes>"
      ]
     },
     "metadata": {
      "needs_background": "light"
     },
     "output_type": "display_data"
    }
   ],
   "source": [
    "#making lines for different values of Beta 0.1, 0.8, 1.5\n",
    "beta = 1.5\n",
    "\n",
    "#keeping intercept constant\n",
    "b = 1.1\n",
    "\n",
    "# to store predicted points\n",
    "line1 = []\n",
    "\n",
    "#generating predictions for every data point\n",
    "for i in range(len(data)):\n",
    "    line1.append(data.experience[i]*beta + b)\n",
    "\n",
    "# plotting the line\n",
    "plt.scatter(data.experience, data.salary, color = \"red\")\n",
    "plt.plot(data.experience, line1, color = \"black\", label = \"line\")\n",
    "plt.xlim(1, 4.5)\n",
    "plt.ylim(1, 7)\n",
    "plt.xlabel(\"Experience\")\n",
    "plt.ylabel(\"Salary\")\n",
    "plt.legend()\n",
    "MSE = mse(data.experience, line1)\n",
    "plt.title(\"Beta value\" + str(beta) + \"with MSE\" + str(MSE))\n",
    "MSE = mse(data.experience, line1)"
   ]
  },
  {
   "cell_type": "markdown",
   "id": "0de26d4a-c385-4c9c-a2c9-e017941919b4",
   "metadata": {},
   "source": [
    "We see a better slope but probably more than we want. We will try a slope of 0.8"
   ]
  },
  {
   "cell_type": "code",
   "execution_count": 8,
   "id": "35540205-e9d4-48db-b086-7d015ee0abed",
   "metadata": {},
   "outputs": [
    {
     "data": {
      "image/png": "[encoded data removed]",
      "text/plain": [
       "<Figure size 432x288 with 1 Axes>"
      ]
     },
     "metadata": {
      "needs_background": "light"
     },
     "output_type": "display_data"
    }
   ],
   "source": [
    "#making lines for different values of Beta 0.1, 0.8, 1.5\n",
    "beta = 0.8\n",
    "\n",
    "#keeping intercept constant\n",
    "b = 1.1\n",
    "\n",
    "# to store predicted points\n",
    "line1 = []\n",
    "\n",
    "#generating predictions for every data point\n",
    "for i in range(len(data)):\n",
    "    line1.append(data.experience[i]*beta + b)\n",
    "\n",
    "# plotting the line\n",
    "plt.scatter(data.experience, data.salary, color = \"red\")\n",
    "plt.plot(data.experience, line1, color = \"black\", label = \"line\")\n",
    "plt.xlim(1, 4.5)\n",
    "plt.ylim(1, 7)\n",
    "plt.xlabel(\"Experience\")\n",
    "plt.ylabel(\"Salary\")\n",
    "plt.legend()\n",
    "MSE = mse(data.experience, line1)\n",
    "plt.title(\"Beta value\" + str(beta) + \"with MSE\" + str(MSE))\n",
    "MSE = mse(data.experience, line1)"
   ]
  },
  {
   "cell_type": "markdown",
   "id": "c0f192f3-91a4-4fe0-b089-977be41d5ec8",
   "metadata": {},
   "source": [
    "We can see that each of the diagram has a different mean squared error(mse)\n",
    "Here we see the relationship between beta and mse "
   ]
  },
  {
   "cell_type": "markdown",
   "id": "6a52ca25-da18-4bd9-ae68-dfd9c88fb58a",
   "metadata": {},
   "source": [
    "#### Computing cost over a range of values of Beta"
   ]
  },
  {
   "cell_type": "code",
   "execution_count": 9,
   "id": "69ee6135-1e57-4e22-bf24-d9844e2dee36",
   "metadata": {},
   "outputs": [],
   "source": [
    "# function to calculate error\n",
    "\n",
    "def Error(Beta, data):\n",
    "    # b is constant\n",
    "    b = 1.1\n",
    "    \n",
    "    salary = []\n",
    "    experience = data.experience\n",
    "\n",
    "    # Loop to calculate predicted salary variables\n",
    "    for i in range(len(data.experience)):\n",
    "        tmp = data.experience[i] + Beta + b\n",
    "        salary.append(tmp)\n",
    "    MSE = mse(experience, salary)\n",
    "    return MSE"
   ]
  },
  {
   "cell_type": "code",
   "execution_count": 10,
   "id": "8f4ccf37-0054-407d-8924-6c436665bfe8",
   "metadata": {},
   "outputs": [],
   "source": [
    "# Range of slopes from 0 to 1.5 with increment of 0.01\n",
    "slope = [i/100 for i in range (0, 150)]\n",
    "Cost = []\n",
    "for i in slope:\n",
    "    cost = Error( Beta = i, data = data)\n",
    "    Cost.append(cost)"
   ]
  },
  {
   "cell_type": "code",
   "execution_count": 11,
   "id": "c88f1ad8-1af2-4a55-b973-378a0e0c78ac",
   "metadata": {},
   "outputs": [
    {
     "data": {
      "text/html": [
       "<div>\n",
       "<style scoped>\n",
       "    .dataframe tbody tr th:only-of-type {\n",
       "        vertical-align: middle;\n",
       "    }\n",
       "\n",
       "    .dataframe tbody tr th {\n",
       "        vertical-align: top;\n",
       "    }\n",
       "\n",
       "    .dataframe thead th {\n",
       "        text-align: right;\n",
       "    }\n",
       "</style>\n",
       "<table border=\"1\" class=\"dataframe\">\n",
       "  <thead>\n",
       "    <tr style=\"text-align: right;\">\n",
       "      <th></th>\n",
       "      <th>Beta</th>\n",
       "      <th>Cost</th>\n",
       "    </tr>\n",
       "  </thead>\n",
       "  <tbody>\n",
       "    <tr>\n",
       "      <th>0</th>\n",
       "      <td>0.00</td>\n",
       "      <td>1.2100</td>\n",
       "    </tr>\n",
       "    <tr>\n",
       "      <th>1</th>\n",
       "      <td>0.01</td>\n",
       "      <td>1.2321</td>\n",
       "    </tr>\n",
       "    <tr>\n",
       "      <th>2</th>\n",
       "      <td>0.02</td>\n",
       "      <td>1.2544</td>\n",
       "    </tr>\n",
       "    <tr>\n",
       "      <th>3</th>\n",
       "      <td>0.03</td>\n",
       "      <td>1.2769</td>\n",
       "    </tr>\n",
       "    <tr>\n",
       "      <th>4</th>\n",
       "      <td>0.04</td>\n",
       "      <td>1.2996</td>\n",
       "    </tr>\n",
       "  </tbody>\n",
       "</table>\n",
       "</div>"
      ],
      "text/plain": [
       "   Beta    Cost\n",
       "0  0.00  1.2100\n",
       "1  0.01  1.2321\n",
       "2  0.02  1.2544\n",
       "3  0.03  1.2769\n",
       "4  0.04  1.2996"
      ]
     },
     "execution_count": 11,
     "metadata": {},
     "output_type": "execute_result"
    }
   ],
   "source": [
    "# Arranging in DataFrame\n",
    "Cost_table = pd.DataFrame({\n",
    "    'Beta' : slope,\n",
    "    'Cost' : Cost\n",
    "})\n",
    "Cost_table.head()    "
   ]
  },
  {
   "cell_type": "code",
   "execution_count": 12,
   "id": "d2f15fa5-f47d-44fa-97da-4bb75781c9fe",
   "metadata": {},
   "outputs": [
    {
     "data": {
      "text/plain": [
       "<matplotlib.legend.Legend at 0x244801c9d30>"
      ]
     },
     "execution_count": 12,
     "metadata": {},
     "output_type": "execute_result"
    },
    {
     "data": {
      "image/png": "[encoded data removed]",
      "text/plain": [
       "<Figure size 432x288 with 1 Axes>"
      ]
     },
     "metadata": {
      "needs_background": "light"
     },
     "output_type": "display_data"
    }
   ],
   "source": [
    "# plotting the cost values corresponding to every value of Beta\n",
    "plt.plot(Cost_table.Beta, Cost_table.Cost, color = \"blue\", label = \"Cost Function Curve\")\n",
    "plt.xlabel(\"Value of Beta\")\n",
    "plt.ylabel(\"Cost\")\n",
    "plt.legend()"
   ]
  },
  {
   "cell_type": "code",
   "execution_count": null,
   "id": "cf33f4ec-17fb-48b9-a49b-422c463aa10d",
   "metadata": {},
   "outputs": [],
   "source": [
    "#Why do i have different figures and curve?!"
   ]
  }
 ],
 "metadata": {
  "kernelspec": {
   "display_name": "Python 3 (ipykernel)",
   "language": "python",
   "name": "python3"
  },
  "language_info": {
   "codemirror_mode": {
    "name": "ipython",
    "version": 3
   },
   "file_extension": ".py",
   "mimetype": "text/x-python",
   "name": "python",
   "nbconvert_exporter": "python",
   "pygments_lexer": "ipython3",
   "version": "3.9.13"
  }
 },
 "nbformat": 4,
 "nbformat_minor": 5
}
